{
  "nbformat": 4,
  "nbformat_minor": 0,
  "metadata": {
    "colab": {
      "provenance": []
    },
    "kernelspec": {
      "name": "python3",
      "display_name": "Python 3"
    },
    "language_info": {
      "name": "python"
    }
  },
  "cells": [
    {
      "cell_type": "code",
      "source": [
        "import os\n",
        "os.chdir('sample_data')"
      ],
      "metadata": {
        "id": "aschofwVvj6O"
      },
      "execution_count": 1,
      "outputs": []
    },
    {
      "cell_type": "code",
      "execution_count": 26,
      "metadata": {
        "colab": {
          "base_uri": "https://localhost:8080/"
        },
        "id": "zKDKPTW2uyDo",
        "outputId": "cabe77b7-92d7-492f-f50a-ad99abab6b84"
      },
      "outputs": [
        {
          "output_type": "stream",
          "name": "stdout",
          "text": [
            "Total cost lost: $545403.75\n",
            "Total cost saved: $3030425.69\n"
          ]
        }
      ],
      "source": [
        "import pandas as pd\n",
        "import numpy as np\n",
        "\n",
        "## Code snippet to fetch USD prices in real time\n",
        "import requests\n",
        "app_id = 'bf0cf08e33b54f989c10faa06ca3a007'\n",
        "url = f'https://openexchangerates.org/api/latest.json?app_id={app_id}&symbols=INR&base=USD'\n",
        "\n",
        "response = requests.get(url)\n",
        "if response.status_code == 200:\n",
        "    data = response.json()\n",
        "    rate = data['rates']['INR']\n",
        "    usdRate=(f\"{rate:.2f}\")\n",
        "else:\n",
        "    print(\"Error: Unable to fetch exchange rate.\")\n",
        "## Code Snippet for Fetching USD prices Ends \n",
        "\n",
        "\n",
        "# read the csv file containing the input data\n",
        "data = pd.read_csv('data_mod.csv')\n",
        "\n",
        "# set the coefficients for burnout, salary, and profession dummy variables\n",
        "# set the coefficients for burnout, salary, and profession dummy variables\n",
        "coefficients = pd.Series({\n",
        "    'burnout': -10.0,\n",
        "    'salary': 1.0,\n",
        "    'doctor': -199.0,\n",
        "    'nurse': -99.0,\n",
        "    'it':  -149.0,\n",
        "    'staff':  -79.0,\n",
        "    'student': -49.0\n",
        "})\n",
        "\n",
        "intercept = 190000\n",
        "\n",
        "# create dummy variables for the profession column\n",
        "dummy_variables = pd.get_dummies(data['profession'])\n",
        "\n",
        "# add the dummy variables to the input data\n",
        "data = pd.concat([data, dummy_variables], axis=1)\n",
        "\n",
        "# filter the data based on burnout greater than or equal to 75\n",
        "cost_lost = data[data['burnout'] >= 75].apply(lambda x: np.dot(x[['burnout', 'salary', 'doctor', 'nurse', 'it', 'staff', 'student']], coefficients.values) + intercept, axis=1).sum()\n",
        "cost_lost=cost_lost/rate\n",
        "# filter the data based on burnout less than 75\n",
        "cost_saved = data[data['burnout'] < 75].apply(lambda x: np.dot(x[['burnout', 'salary', 'doctor', 'nurse', 'it', 'staff', 'student']], coefficients.values) + intercept, axis=1).sum()\n",
        "cost_saved=cost_saved/rate\n",
        "\n",
        "\n",
        "\n",
        "\n",
        "# print the results\n",
        "print(f\"Total cost lost: ${cost_lost:.2f}\")\n",
        "print(f\"Total cost saved: ${cost_saved:.2f}\")"
      ]
    }
  ]
}